{
 "cells": [
  {
   "cell_type": "code",
   "execution_count": 2,
   "metadata": {},
   "outputs": [],
   "source": [
    "import networkx as nx\n",
    "import pandas as pd\n",
    "from matplotlib import pyplot as plt\n",
    "from itertools import combinations_with_replacement"
   ]
  },
  {
   "cell_type": "code",
   "execution_count": 3,
   "metadata": {},
   "outputs": [],
   "source": [
    "d = pd.read_csv('sa2_sydney.csv')\n",
    "dd = d[['SA2_NAME16', 'xcoord', 'ycoord']]\n",
    "dd.set_index('SA2_NAME16', inplace=True)"
   ]
  },
  {
   "cell_type": "code",
   "execution_count": 5,
   "metadata": {},
   "outputs": [],
   "source": [
    "G = nx.Graph()\n",
    "pos = {}\n",
    "for pl in dd.index:\n",
    "    G.add_node(pl)\n",
    "    pos[pl] = tuple(dd.loc[pl])"
   ]
  },
  {
   "cell_type": "code",
   "execution_count": 6,
   "metadata": {},
   "outputs": [
    {
     "data": {
      "image/png": "[encoded data removed]",
      "text/plain": [
       "<Figure size 432x288 with 1 Axes>"
      ]
     },
     "metadata": {
      "needs_background": "light"
     },
     "output_type": "display_data"
    }
   ],
   "source": [
    "nx.draw_networkx(G, pos = pos, with_labels = False, node_size = 2)"
   ]
  },
  {
   "cell_type": "code",
   "execution_count": 36,
   "metadata": {},
   "outputs": [],
   "source": [
    "df = pd.read_csv('UR_POW_ALL.csv')\n",
    "\n",
    "places = d['SA2_NAME16']\n",
    "\n",
    "df.set_index('SA2 (POW)', inplace = True)"
   ]
  },
  {
   "cell_type": "code",
   "execution_count": 40,
   "metadata": {},
   "outputs": [],
   "source": [
    "places = places[places != 'Holsworthy Military Area']"
   ]
  },
  {
   "cell_type": "code",
   "execution_count": 42,
   "metadata": {},
   "outputs": [],
   "source": [
    "sydney_df = df[places].loc[places]"
   ]
  },
  {
   "cell_type": "code",
   "execution_count": 43,
   "metadata": {
    "scrolled": true
   },
   "outputs": [],
   "source": [
    "interactions=  {(p1,p2):(sydney_df[p1].multiply(sydney_df[p2])).sum()/min(sydney_df[p1].sum(),sydney_df[p2].sum()) \n",
    "                for p1, p2 in combinations_with_replacement(places, 2)}"
   ]
  },
  {
   "cell_type": "code",
   "execution_count": 55,
   "metadata": {},
   "outputs": [],
   "source": [
    "#interactions=  {(p1,p2):((sydney_df[p1].multiply(sydney_df[p2])).divide(sydney_df.sum(axis=0)).sum()) \n",
    "#                for p1, p2 in combinations_with_replacement(places, 2)}\n",
    "series_edges = pd.Series(interactions).sort_values(ascending = False)"
   ]
  },
  {
   "cell_type": "code",
   "execution_count": 58,
   "metadata": {},
   "outputs": [
    {
     "data": {
      "text/plain": [
       "Sydney - Haymarket - The Rocks     Mosman                                     2845.665656\n",
       "                                   Cremorne - Cammeray                        2725.406064\n",
       "                                   Bondi Beach - North Bondi                  2704.218578\n",
       "                                   Double Bay - Bellevue Hill                 2681.657803\n",
       "                                   Centennial Park                            2627.666667\n",
       "                                   Coogee - Clovelly                          2564.612571\n",
       "                                   Neutral Bay - Kirribilli                   2543.256267\n",
       "Potts Point - Woolloomooloo        Sydney - Haymarket - The Rocks             2460.512481\n",
       "Sydney - Haymarket - The Rocks     Bondi - Tamarama - Bronte                  2411.778132\n",
       "Darlinghurst                       Sydney - Haymarket - The Rocks             2376.770013\n",
       "Sydney - Haymarket - The Rocks     Paddington - Moore Park                    2359.205934\n",
       "                                   Willoughby - Castle Cove - Northbridge     2347.965660\n",
       "                                   Crows Nest - Waverton                      2346.478261\n",
       "                                   Manly - Fairlight                          2320.784897\n",
       "Newtown - Camperdown - Darlington  Sydney - Haymarket - The Rocks             2309.162521\n",
       "Glebe - Forest Lodge               Sydney - Haymarket - The Rocks             2287.389653\n",
       "Surry Hills                        Sydney - Haymarket - The Rocks             2234.814343\n",
       "Pyrmont - Ultimo                   Sydney - Haymarket - The Rocks             2233.665692\n",
       "Sydney - Haymarket - The Rocks     Balmain                                    2223.422924\n",
       "                                   Bondi Junction - Waverly                   2206.337279\n",
       "                                   Woollahra                                  2193.361845\n",
       "Redfern - Chippendale              Sydney - Haymarket - The Rocks             2178.783407\n",
       "Sydney - Haymarket - The Rocks     Waterloo - Beaconsfield                    2165.429218\n",
       "                                   Leichhardt - Annandale                     2164.314626\n",
       "Petersham - Stanmore               Sydney - Haymarket - The Rocks             2144.306190\n",
       "Sydney - Haymarket - The Rocks     Sydney - Haymarket - The Rocks             2134.806695\n",
       "                                   Lindfield - Roseville                      2093.274194\n",
       "                                   Chatswood (West) - Lane Cove North         2091.666551\n",
       "                                   Lane Cove - Greenwich                      2061.647461\n",
       "                                   Rose Bay - Vaucluse - Watsons Bay          2050.631388\n",
       "                                                                                 ...     \n",
       "Woy Woy - Blackwall                Blue Mountains - South                        0.000000\n",
       "                                   Royal National Park                           0.000000\n",
       "Blue Mountains - South             Caringbah                                     0.000000\n",
       "Hurstville                         Blue Mountains - North                        0.000000\n",
       "Edensor Park                       Lilli Pilli - Port Hacking - Dolans Bay       0.000000\n",
       "Balgowlah - Clontarf - Seaforth    Badgerys Creek                                0.000000\n",
       "Hurstville                         Blue Mountains - South                        0.000000\n",
       "Wyoming                            Centennial Park                               0.000000\n",
       "Bradbury - Wedderburn              Blue Mountains - South                        0.000000\n",
       "Blue Mountains - South             Cabramatta - Lansvale                         0.000000\n",
       "                                   Cabramatta West - Mount Pritchard             0.000000\n",
       "                                   Edensor Park                                  0.000000\n",
       "Bradbury - Wedderburn              Blue Mountains - North                        0.000000\n",
       "Mortdale - Penshurst               Blue Mountains - North                        0.000000\n",
       "Wyoming                            Acacia Gardens                                0.000000\n",
       "                                   Blacktown (South)                             0.000000\n",
       "Mortdale - Penshurst               Blue Mountains - South                        0.000000\n",
       "Manly - Fairlight                  Blue Mountains - North                        0.000000\n",
       "Wyoming                            Bilpin - Colo - St Albans                     0.000000\n",
       "Mortdale - Penshurst               Badgerys Creek                                0.000000\n",
       "Blue Mountains - South             Fairfield - West                              0.000000\n",
       "Elderslie - Harrington Park        Blue Mountains - South                        0.000000\n",
       "Blue Mountains - South             Casula                                        0.000000\n",
       "                                   Lurnea - Cartwright                           0.000000\n",
       "                                   Warwick Farm                                  0.000000\n",
       "                                   Gymea - Grays Point                           0.000000\n",
       "                                   Miranda - Yowie Bay                           0.000000\n",
       "                                   Sylvania - Taren Point                        0.000000\n",
       "Balmain                            Blue Mountains - South                        0.000000\n",
       "The Entrance                       Bilpin - Colo - St Albans                     0.000000\n",
       "Length: 48516, dtype: float64"
      ]
     },
     "execution_count": 58,
     "metadata": {},
     "output_type": "execute_result"
    }
   ],
   "source": [
    "series_edges"
   ]
  },
  {
   "cell_type": "code",
   "execution_count": 56,
   "metadata": {},
   "outputs": [],
   "source": [
    "def create_edges(T, G):\n",
    "    freeze_i = len(series_edges)-1\n",
    "    for i, k in enumerate(series_edges.keys()):\n",
    "        if series_edges[k] < T:\n",
    "            freeze_i = i\n",
    "            break \n",
    "    final_edges = list(series_edges.keys()[:freeze_i])\n",
    "    G = nx.create_empty_copy(G)\n",
    "    for e in final_edges:\n",
    "        G.add_edge(e[0], e[1])\n",
    "    return G"
   ]
  },
  {
   "cell_type": "code",
   "execution_count": 57,
   "metadata": {},
   "outputs": [
    {
     "data": {
      "text/plain": [
       "(150.1738380206042, 151.64858464451382, -34.33699268417654, -33.07652698871414)"
      ]
     },
     "execution_count": 57,
     "metadata": {},
     "output_type": "execute_result"
    },
    {
     "data": {
      "image/png": "[encoded data removed]",
      "text/plain": [
       "<Figure size 432x288 with 4 Axes>"
      ]
     },
     "metadata": {
      "needs_background": "light"
     },
     "output_type": "display_data"
    }
   ],
   "source": [
    "%matplotlib inline\n",
    "plt.subplot(2,2,1)\n",
    "G = create_edges(100, G)\n",
    "nx.draw_networkx(G, pos = pos, with_labels = False, node_size = 2)\n",
    "plt.title(100)\n",
    "plt.axis('off')\n",
    "\n",
    "plt.subplot(2,2,2)\n",
    "G = create_edges(200, G)\n",
    "nx.draw_networkx(G, pos = pos, with_labels = False, node_size = 2)\n",
    "plt.title(200)\n",
    "plt.axis('off')\n",
    "\n",
    "plt.subplot(2,2,3)\n",
    "G = create_edges(300, G)\n",
    "nx.draw_networkx(G, pos = pos, with_labels = False, node_size = 2)\n",
    "plt.title(300)\n",
    "plt.axis('off')\n",
    "\n",
    "plt.subplot(2,2,4)\n",
    "G = create_edges(400, G)\n",
    "nx.draw_networkx(G, pos = pos, with_labels = False, node_size = 2)\n",
    "plt.title(400)\n",
    "plt.axis('off')"
   ]
  },
  {
   "cell_type": "code",
   "execution_count": 77,
   "metadata": {},
   "outputs": [],
   "source": [
    "G = create_edges(300, G)"
   ]
  },
  {
   "cell_type": "code",
   "execution_count": 86,
   "metadata": {},
   "outputs": [
    {
     "data": {
      "text/plain": [
       "312"
      ]
     },
     "execution_count": 86,
     "metadata": {},
     "output_type": "execute_result"
    }
   ],
   "source": [
    "len(G.nodes)"
   ]
  },
  {
   "cell_type": "code",
   "execution_count": 85,
   "metadata": {},
   "outputs": [
    {
     "data": {
      "text/plain": [
       "5.6923076923076925"
      ]
     },
     "execution_count": 85,
     "metadata": {},
     "output_type": "execute_result"
    }
   ],
   "source": [
    "np.array(list(dict(G.degree).values())).mean()"
   ]
  },
  {
   "cell_type": "markdown",
   "metadata": {},
   "source": [
    "$$\\frac{dI}{dt} = \\lambda \\cdot \\bar{z} \\frac{I}{N} \\frac{S}{N}$$\n",
    "On a more granular level,\n",
    "$$\\frac{dI_j}{dt} = \\lambda \\cdot  \\sum_{i \\in N(j)} \\sum_{k \\in G} p_k \\cdot S_j^{k} I_i^{k}$$\n",
    "\n",
    "with $p_k = \\frac{\\langle z \\rangle}{nC2} = \\frac{\\langle z \\rangle}{n(n-1)/2}$\n",
    "\n",
    "$S_i^k$ is the number of suceptible workers living in $i$ working in $k$.\n",
    "\n",
    "If we model the workplace with $n$ workers as a network, $\\bar{z}$ is the average degree of a worker in the workplace."
   ]
  },
  {
   "cell_type": "code",
   "execution_count": 69,
   "metadata": {},
   "outputs": [],
   "source": [
    "GG = nx.Graph()\n",
    "GG.add_node(0, old = 5000, working = 1, children = 200)\n",
    "GG.add_node(1, old = 5001, working = 2, children = 200)"
   ]
  },
  {
   "cell_type": "code",
   "execution_count": 76,
   "metadata": {},
   "outputs": [
    {
     "data": {
      "text/plain": [
       "array([2., 2., 2., 2., 2.])"
      ]
     },
     "execution_count": 76,
     "metadata": {},
     "output_type": "execute_result"
    }
   ],
   "source": [
    "np.ones(5) + np.ones(5)"
   ]
  },
  {
   "cell_type": "code",
   "execution_count": 74,
   "metadata": {},
   "outputs": [
    {
     "data": {
      "text/plain": [
       "array([[ 200,  200],\n",
       "       [5000, 5001],\n",
       "       [   1,    2]], dtype=int64)"
      ]
     },
     "execution_count": 74,
     "metadata": {},
     "output_type": "execute_result"
    }
   ],
   "source": [
    "np.array(pd.DataFrame((dict(GG.nodes(data = True)))))"
   ]
  },
  {
   "cell_type": "code",
   "execution_count": 68,
   "metadata": {},
   "outputs": [
    {
     "name": "stdout",
     "output_type": "stream",
     "text": [
      "(0, 'blue')\n",
      "(1, 'red')\n"
     ]
    }
   ],
   "source": [
    "for node in GG.nodes('hi'):\n",
    "    print(node)"
   ]
  },
  {
   "cell_type": "markdown",
   "metadata": {},
   "source": [
    "Model for night update:\n",
    "\n",
    "a"
   ]
  }
 ],
 "metadata": {
  "kernelspec": {
   "display_name": "Python 3",
   "language": "python",
   "name": "python3"
  },
  "language_info": {
   "codemirror_mode": {
    "name": "ipython",
    "version": 3
   },
   "file_extension": ".py",
   "mimetype": "text/x-python",
   "name": "python",
   "nbconvert_exporter": "python",
   "pygments_lexer": "ipython3",
   "version": "3.7.0"
  }
 },
 "nbformat": 4,
 "nbformat_minor": 2
}
